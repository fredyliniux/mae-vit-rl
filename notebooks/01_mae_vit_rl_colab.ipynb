# Notebook inicial MAE-ViT-RL

{
 "cells": [
  {
   "cell_type": "markdown",
   "metadata": {},
   "source": [
    "# MAE-ViT-RL - Notebook Inicial\n",
    "Este notebook es un punto de partida para probar el proyecto."
   ]
  },
  {
   "cell_type": "code",
   "execution_count": null,
   "metadata": {},
   "outputs": [],
   "source": [
    "print('Hola, Colab!')"
   ]
  }
 ],
 "metadata": {
  "colab": {
   "name": "01_mae_vit_rl_colab.ipynb"
  },
  "kernelspec": {
   "display_name": "Python 3",
   "language": "python",
   "name": "python3"
  }
 },
 "nbformat": 4,
 "nbformat_minor": 2
}

